{
 "cells": [
  {
   "cell_type": "code",
   "execution_count": 1,
   "id": "094421fa",
   "metadata": {},
   "outputs": [
    {
     "name": "stdout",
     "output_type": "stream",
     "text": [
      "['C:\\\\Program Files\\\\AutoHotkey\\\\v2\\\\AutoHotkey64.exe', 'c:\\\\Users\\\\verdant\\\\Desktop\\\\assistant./modules\\\\update_app_volume.ahk', 'diminuir', '100', 'spotify.exe']\n",
      "0\n"
     ]
    }
   ],
   "source": [
    "import subprocess\n",
    "from assistant import Assistant\n",
    "import os\n",
    "import dotenv\n",
    "from chat import Chat\n",
    "\n",
    "dotenv.load_dotenv()\n",
    "WAKE_PHRASE = \"ola jarvis\"\n",
    "    \n",
    "assistant = Assistant()\n",
    "chat = Chat()\n",
    "\n",
    "user_request = \"Diminuir em 100 o volume do spotify\"\n",
    "if user_request:\n",
    "    commands = chat.map_prompt_scripts(user_request)\n",
    "\n",
    "    for cmd in commands['commands']:\n",
    "        cmd_full_path = os.path.join(os.getcwd() + \"./modules\", cmd[\"script\"])\n",
    "        call_params = [r\"C:\\Program Files\\AutoHotkey\\v2\\AutoHotkey64.exe\", str(cmd_full_path)] + [str(p) for p in cmd[\"params\"]]\n",
    "        print(call_params)\n",
    "        proc = subprocess.call(\n",
    "            call_params, shell=True\n",
    "        )\n",
    "        print(proc)\n",
    "\n"
   ]
  },
  {
   "cell_type": "code",
   "execution_count": 3,
   "id": "fff7a991",
   "metadata": {},
   "outputs": [
    {
     "name": "stdout",
     "output_type": "stream",
     "text": [
      "Requirement already satisfied: pillow in c:\\users\\verdant\\desktop\\assistant\\back\\venv\\lib\\site-packages (11.2.1)\n",
      "Note: you may need to restart the kernel to use updated packages.\n"
     ]
    },
    {
     "name": "stderr",
     "output_type": "stream",
     "text": [
      "\n",
      "[notice] A new release of pip is available: 25.1 -> 25.1.1\n",
      "[notice] To update, run: python.exe -m pip install --upgrade pip\n"
     ]
    }
   ],
   "source": [
    "%pip install pillow\n",
    "from PIL import Image\n",
    "\n",
    "imagem = Image.open(\"./c688eba0-62c1-41d7-a3c4-0d577af66d9d.png\")\n",
    "\n",
    "# Coordenadas do canto superior esquerdo do ícone do WhatsApp\n",
    "x = 20\n",
    "y = 30\n",
    "\n",
    "# Tamanho do recorte (largura, altura)\n",
    "largura = 64\n",
    "altura = 64\n",
    "\n",
    "# Define a área de recorte: (esquerda, superior, direita, inferior)\n",
    "area = (x, y, x + largura, y + altura)\n",
    "\n",
    "# Realiza o recorte\n",
    "recorte = imagem.crop(area)\n",
    "\n",
    "# Salva ou exibe o recorte\n",
    "recorte.save(\"recorte_whatsapp.png\")\n",
    "recorte.show()\n"
   ]
  }
 ],
 "metadata": {
  "kernelspec": {
   "display_name": "venv",
   "language": "python",
   "name": "python3"
  },
  "language_info": {
   "codemirror_mode": {
    "name": "ipython",
    "version": 3
   },
   "file_extension": ".py",
   "mimetype": "text/x-python",
   "name": "python",
   "nbconvert_exporter": "python",
   "pygments_lexer": "ipython3",
   "version": "3.13.1"
  }
 },
 "nbformat": 4,
 "nbformat_minor": 5
}
